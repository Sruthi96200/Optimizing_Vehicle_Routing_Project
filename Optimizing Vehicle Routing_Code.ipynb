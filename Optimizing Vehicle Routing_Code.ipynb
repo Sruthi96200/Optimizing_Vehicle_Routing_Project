{
 "cells": [
  {
   "cell_type": "code",
   "execution_count": 1,
   "metadata": {},
   "outputs": [],
   "source": [
    "# Execute this cell and fully understand it\n",
    "# [NOTE] Do not modify this cell\n",
    "using JuMP\n",
    "import DataFrames\n",
    "using CPLEX\n",
    "import Plots\n",
    "import SparseArrays\n",
    "using LinearAlgebra\n",
    "\n",
    "# use this data structure; notation aligns with the problem description\n",
    "mutable struct Data\n",
    "    t::Matrix{Float64}\n",
    "    l::Vector{Float64}\n",
    "    u::Vector{Float64}\n",
    "    d::Vector{Float64}\n",
    "    s::Vector{Float64}\n",
    "    q::Float64\n",
    "    n::Int64\n",
    "\n",
    "    # initializer\n",
    "    function Data(xcoord::Vector{Float64}, ycoord::Vector{Float64}, demand::Vector{Float64}, l::Vector{Float64}, u::Vector{Float64}, s::Vector{Float64}, q::Float64)\n",
    "        # number of customers\n",
    "        n = length(xcoord)-1 \n",
    "        # compute travel time\n",
    "        t = [norm([xcoord[i]; ycoord[i]] - [xcoord[j]; ycoord[j]], 2) for i=1:n+1, j=1:n+1]\n",
    "    \n",
    "        d = demand\n",
    "        new(t, l, u, d, s, q, n)\n",
    "    end\n",
    "\n",
    "end\n"
   ]
  },
  {
   "cell_type": "code",
   "execution_count": 2,
   "metadata": {},
   "outputs": [
    {
     "data": {
      "text/plain": [
       "Data([0.0 2.0 … 39.293765408777 18.681541692269406; 2.0 0.0 … 41.23105625617661 20.615528128088304; … ; 39.293765408777 41.23105625617661 … 0.0 20.615528128088304; 18.681541692269406 20.615528128088304 … 20.615528128088304 0.0], [912.0, 825.0, 65.0, 727.0, 15.0, 621.0, 170.0, 255.0, 534.0, 357.0  …  31.0, 87.0, 751.0, 283.0, 665.0, 383.0, 479.0, 567.0, 264.0, 0.0], [967.0, 870.0, 146.0, 782.0, 67.0, 702.0, 225.0, 324.0, 605.0, 410.0  …  100.0, 158.0, 816.0, 344.0, 716.0, 434.0, 522.0, 624.0, 321.0, 1236.0], [10.0, 30.0, 10.0, 10.0, 10.0, 20.0, 20.0, 20.0, 10.0, 10.0  …  30.0, 40.0, 20.0, 10.0, 10.0, 20.0, 30.0, 20.0, 10.0, 0.0], [90.0, 90.0, 90.0, 90.0, 90.0, 90.0, 90.0, 90.0, 90.0, 90.0  …  90.0, 90.0, 90.0, 90.0, 90.0, 90.0, 90.0, 90.0, 90.0, 0.0], 200.0, 40)"
      ]
     },
     "execution_count": 2,
     "metadata": {},
     "output_type": "execute_result"
    }
   ],
   "source": [
    "# [NOTE] Do not modify this cell\n",
    "\n",
    "# Below is the problem instance\n",
    "A=[1\t45.00\t68.00\t10.00\t912.00\t967.00\t90.00\n",
    "2\t45.00\t70.00\t30.00\t825.00\t870.00\t90.00\n",
    "3\t42.00\t66.00\t10.00\t65.00\t146.00\t90.00\n",
    "4\t42.00\t68.00\t10.00\t727.00\t782.00\t90.00\n",
    "5\t42.00\t65.00\t10.00\t15.00\t67.00\t90.00\n",
    "6\t40.00\t69.00\t20.00\t621.00\t702.00\t90.00\n",
    "7\t40.00\t66.00\t20.00\t170.00\t225.00\t90.00\n",
    "8\t38.00\t68.00\t20.00\t255.00\t324.00\t90.00\n",
    "9\t38.00\t70.00\t10.00\t534.00\t605.00\t90.00\n",
    "10\t35.00\t66.00\t10.00\t357.00\t410.00\t90.00\n",
    "11\t35.00\t69.00\t10.00\t448.00\t505.00\t90.00\n",
    "12\t25.00\t85.00\t20.00\t652.00\t721.00\t90.00\n",
    "13\t22.00\t75.00\t30.00\t30.00\t92.00\t90.00\n",
    "14\t22.00\t85.00\t10.00\t567.00\t620.00\t90.00\n",
    "15\t20.00\t80.00\t40.00\t384.00\t429.00\t90.00\n",
    "16\t20.00\t85.00\t40.00\t475.00\t528.00\t90.00\n",
    "17\t18.00\t75.00\t20.00\t99.00\t148.00\t90.00\n",
    "18\t15.00\t75.00\t20.00\t179.00\t254.00\t90.00\n",
    "19\t15.00\t80.00\t10.00\t278.00\t345.00\t90.00\n",
    "20\t30.00\t50.00\t10.00\t10.00\t73.00\t90.00\n",
    "21\t30.00\t52.00\t20.00\t914.00\t965.00\t90.00\n",
    "22\t28.00\t52.00\t20.00\t812.00\t883.00\t90.00\n",
    "23\t28.00\t55.00\t10.00\t732.00\t777.00\t90.00\n",
    "24\t25.00\t50.00\t10.00\t65.00\t144.00\t90.00\n",
    "25\t25.00\t52.00\t40.00\t169.00\t224.00\t90.00\n",
    "26\t25.00\t55.00\t10.00\t622.00\t701.00\t90.00\n",
    "27\t23.00\t52.00\t10.00\t261.00\t316.00\t90.00\n",
    "28\t23.00\t55.00\t20.00\t546.00\t593.00\t90.00\n",
    "29\t20.00\t50.00\t10.00\t358.00\t405.00\t90.00\n",
    "30\t20.00\t55.00\t10.00\t449.00\t504.00\t90.00\n",
    "31\t10.00\t35.00\t20.00\t200.00\t237.00\t90.00\n",
    "32\t10.00\t40.00\t30.00\t31.00\t100.00\t90.00\n",
    "33\t8.00\t40.00\t40.00\t87.00\t158.00\t90.00\n",
    "34\t8.00\t45.00\t20.00\t751.00\t816.00\t90.00\n",
    "35\t5.00\t35.00\t10.00\t283.00\t344.00\t90.00\n",
    "36\t5.00\t45.00\t10.00\t665.00\t716.00\t90.00\n",
    "37\t2.00\t40.00\t20.00\t383.00\t434.00\t90.00\n",
    "38\t0.00\t40.00\t30.00\t479.00\t522.00\t90.00\n",
    "39\t0.00\t45.00\t20.00\t567.00\t624.00\t90.00\n",
    "40\t35.00\t30.00\t10.00\t264.00\t321.00\t90.00\n",
    "41\t40.00\t50.00\t0.00\t0.00\t1236.00\t0.00\n",
    "]\n",
    "# A[:,1] represents the customer indices where the last customer represents the depot\n",
    "xcoord = A[:,2] # x-coordinate\n",
    "ycoord = A[:,3] # y-coordinate\n",
    "demand = A[:,4] # demand\n",
    "l = A[:,5] # start time of service window\n",
    "u = A[:,6] # ending time of service window\n",
    "s = A[:,7] # service time\n",
    "q = 200.0 # vehicle capacity\n",
    "\n",
    "data = Data(xcoord, ycoord, demand, l, u, s, q)"
   ]
  },
  {
   "cell_type": "markdown",
   "metadata": {},
   "source": [
    "## 1. Implement the MILP formulation by completing the statements below:\n"
   ]
  },
  {
   "cell_type": "code",
   "execution_count": 3,
   "metadata": {},
   "outputs": [],
   "source": [
    "mutable struct NaiveMIP\n",
    "    model::Model\n",
    "    M::Int64\n",
    "    x::Array{VariableRef, 3}\n",
    "    y::Matrix{VariableRef}\n",
    "\n",
    "    # initializer\n",
    "    function NaiveMIP(data::Data)\n",
    "        n = data.n\n",
    "        t = data.t\n",
    "        q = data.q\n",
    "        d = data.d\n",
    "        u = data.u\n",
    "        l = data.l\n",
    "        s = data.s\n",
    "        M = n\n",
    "        model = Model(CPLEX.Optimizer)\n",
    "        @variable(model, x[1:n+1,1:n+1,1:M], Bin)\n",
    "        @variable(model, y[1:n+1,1:M])\n",
    "\n",
    "        # Constraint: Each customer must be serviced exactly once\n",
    "        for i in 1:n\n",
    "            @constraint(model, sum(x[i,j,k] for j in 1:n+1, k in 1:M) == 1)\n",
    "        end\n",
    "\n",
    "        # Constraint: Each route originates and ends at vertex 0\n",
    "        for k in 1:M\n",
    "            @constraint(model, sum(x[1,i,k] for i in 2:n+1) == 1)\n",
    "            @constraint(model, sum(x[i,1,k] for i in 2:n+1) == 1)\n",
    "        end\n",
    "\n",
    "        # Constraint: Time Window Constraints are satisfied\n",
    "        for i in 1:n, j in 1:n, k in 1:M\n",
    "            Mij = max(u[i] + s[i] + t[i,j] - l[j], 0)\n",
    "            @constraint(model, y[i,k] - y[j,k] + Mij * (1 - x[i,j,k]) >= s[i])\n",
    "        end\n",
    "\n",
    "        # Constraint: Capacity constraints of the vehicles are fulfilled\n",
    "        for k in 1:M\n",
    "            @constraint(model, sum(d[i] * x[i,j,k] for i in 1:n, j in 1:n+1) <= q)\n",
    "        end\n",
    "\n",
    "        # Objective: Minimize total number of vehicles utilized\n",
    "        @objective(model, Min, sum(x[i,j,k] for i in 1:n+1, j in 1:n+1, k in 1:M))\n",
    "\n",
    "        return new(model, M, x, y)\n",
    "    end\n",
    "end\n",
    "\n",
    "\n"
   ]
  },
  {
   "cell_type": "markdown",
   "metadata": {},
   "source": [
    "### solve the MILP and report the result in the PDF file."
   ]
  },
  {
   "cell_type": "code",
   "execution_count": 4,
   "metadata": {},
   "outputs": [
    {
     "name": "stdout",
     "output_type": "stream",
     "text": [
      "Version identifier: 22.1.1.0 | 2022-11-27 | 9160aff4d\r\n",
      "Infeasibility row 'c1':  0  = -39.\r\n",
      "Presolve time = 0.16 sec. (93.70 ticks)\r\n"
     ]
    },
    {
     "data": {
      "text/plain": [
       "* Solver : CPLEX\n",
       "\n",
       "* Status\n",
       "  Result count       : 0\n",
       "  Termination status : INFEASIBLE\n",
       "  Message from the solver:\n",
       "  \"integer infeasible\"\n",
       "\n",
       "* Candidate solution (result #1)\n",
       "  Primal status      : NO_SOLUTION\n",
       "  Dual status        : NO_SOLUTION\n",
       "  Objective bound    : 0.00000e+00\n",
       "\n",
       "* Work counters\n",
       "  Solve time (sec)   : 2.52000e-01\n",
       "  Simplex iterations : 0\n",
       "  Barrier iterations : 0\n",
       "  Node count         : 0\n"
      ]
     },
     "execution_count": 4,
     "metadata": {},
     "output_type": "execute_result"
    }
   ],
   "source": [
    "# Solve the MILP\n",
    "nmip = NaiveMIP(data)\n",
    "optimize!(nmip.model)\n",
    "solution_summary(nmip.model)"
   ]
  },
  {
   "cell_type": "markdown",
   "metadata": {},
   "source": [
    "## 2. Implement Column Generation\n",
    "### (a). Implement the master problem by completing the statements below:"
   ]
  },
  {
   "cell_type": "code",
   "execution_count": 5,
   "metadata": {},
   "outputs": [
    {
     "data": {
      "text/plain": [
       "Master"
      ]
     },
     "execution_count": 5,
     "metadata": {},
     "output_type": "execute_result"
    }
   ],
   "source": [
    "mutable struct Master\n",
    "    model::Model\n",
    "    z::Vector{VariableRef} # variables\n",
    "    demand_constr::Vector{<:ConstraintRef} # constraints\n",
    "    routes::Vector{Vector{Float64}}\n",
    "    P::Int64 # number of routes\n",
    "end\n",
    "\n",
    "function Master(data)\n",
    "    n = data.n\n",
    "\n",
    "    # statement 1: construct initial naive configurations\n",
    "    routes = Vector{Vector{Float64}}()\n",
    "    for i in 1:n\n",
    "        route = zeros(Int,n)\n",
    "        route[i] = 1\n",
    "        push!(routes, route)\n",
    "    end\n",
    "\n",
    "    # statement 2: Let P denote the number of initial routes\n",
    "    P = length(routes)\n",
    "\n",
    "    # define empty model\n",
    "    model = Model(CPLEX.Optimizer)\n",
    "\n",
    "    # mute the output\n",
    "    set_silent(model)\n",
    "\n",
    "    # statement 3: add variable z, objective function, and constraint named 'demand_constr' to model\n",
    "    @variable(model, z[1:n] >= 0)\n",
    "    @objective(model, Min, sum(z))\n",
    "    @constraint(model, demand_constr[i=1:P], routes[i]'*z==1)\n",
    "\n",
    "    return Master(model, z, demand_constr, routes, P)\n",
    "end"
   ]
  },
  {
   "cell_type": "markdown",
   "metadata": {},
   "source": [
    "### (b). Implement the pricing problem by completing the statements below:"
   ]
  },
  {
   "cell_type": "code",
   "execution_count": 6,
   "metadata": {},
   "outputs": [
    {
     "data": {
      "text/plain": [
       "Sub"
      ]
     },
     "execution_count": 6,
     "metadata": {},
     "output_type": "execute_result"
    }
   ],
   "source": [
    "mutable struct Sub\n",
    "    model::Model\n",
    "    a::Vector{VariableRef} # variables\n",
    "end\n",
    "\n",
    "function Sub(data)\n",
    "    l = data.l\n",
    "    u = data.u\n",
    "    t = data.t\n",
    "    d = data.d\n",
    "    n = data.n\n",
    "\n",
    "    # initial dummy dual values\n",
    "    π̂ = zeros(Float64, n)\n",
    "\n",
    "    model = Model(CPLEX.Optimizer)\n",
    "    @variable(model, x[1:n+1, 1:n+1], Bin)\n",
    "    @variable(model, y[1:n+1])\n",
    "    @variable(model, a[1:n])\n",
    "\n",
    "    set_silent(model)\n",
    "\n",
    "    # statement 1: add constraints and objective to model\n",
    "    @constraint(model, [i=1:n, j=1:n+1; i != j], y[j] >= y[i] + t[i, j] + s[i] - M * (1 - x[i, j]))\n",
    "    @constraint(model, [i=1:n], l[i] <= y[i] <= u[i])\n",
    "    @constraint(model, [i=1:n], sum(x[i, j] for j=1:n+1) == sum(x[j, i] for j=1:n+1))\n",
    "    @constraint(model, sum(x[1, j] for j=2:n+1) == 1)\n",
    "    @constraint(model, sum(x[j, 1] for j=2:n+1) == 1)\n",
    "    @constraint(model, [i=1:n], a[i] == sum(x[i, j] for j=1:n+1))\n",
    "    @objective(model, Max, 1 - sum(π̂[i] * a[i] for i=1:n))\n",
    "\n",
    "    return Sub(model, a)\n",
    "end"
   ]
  },
  {
   "cell_type": "markdown",
   "metadata": {},
   "source": [
    "### (c) Implement `runCG(master::Master, sub::Sub, data::Data)` by completing the following statements:"
   ]
  },
  {
   "cell_type": "code",
   "execution_count": 7,
   "metadata": {},
   "outputs": [
    {
     "data": {
      "text/plain": [
       "runCG (generic function with 1 method)"
      ]
     },
     "execution_count": 7,
     "metadata": {},
     "output_type": "execute_result"
    }
   ],
   "source": [
    "function runCG(master::Master, sub::Sub, data::Data)\n",
    "    while true\n",
    "        # solve the restricted master problem\n",
    "        optimize!(master.model)\n",
    "        println(value.(master.z))\n",
    "        println(objective_value(master.model))\n",
    "        # get duals\n",
    "        π = dual.(master.demand_constr)\n",
    "\n",
    "        # update the subproblem objective function using the dual info\n",
    "        set_objective_coefficient.(sub.model, sub.a, -π)\n",
    "        # solve the subproblem\n",
    "        optimize!(sub.model)\n",
    "        # obtain the optimal value of the sub, which corresponds to the reduced cost of the column generated by the sub\n",
    "        reduced_cost = objective_value(sub.model)\n",
    "        if reduced_cost < -1e-8\n",
    "            # add the column with negative reduced cost\n",
    "            â = value.(sub.a)\n",
    "            push!(master.routes, â)\n",
    "            push!(master.z, @variable(master.model, lower_bound = 0))\n",
    "            set_objective_coefficient(master.model, master.z[end], 1.0)\n",
    "            set_normalized_coefficient.(master.demand_constr, master.z[end], â)\n",
    "            println(\"Found new pattern. Total patterns = $(length(master.routes))\")\n",
    "        else\n",
    "            break\n",
    "        end\n",
    "    end\n",
    "end\n"
   ]
  },
  {
   "cell_type": "markdown",
   "metadata": {},
   "source": [
    "### run the CG and report the result in the PDF file."
   ]
  },
  {
   "cell_type": "code",
   "execution_count": 8,
   "metadata": {},
   "outputs": [
    {
     "ename": "LoadError",
     "evalue": "UndefVarError: `M` not defined",
     "output_type": "error",
     "traceback": [
      "UndefVarError: `M` not defined",
      "",
      "Stacktrace:",
      "  [1] macro expansion",
      "    @ C:\\Users\\sruth\\.julia\\packages\\MutableArithmetics\\xVyia\\src\\rewrite.jl:321 [inlined]",
      "  [2] macro expansion",
      "    @ C:\\Users\\sruth\\.julia\\packages\\JuMP\\glJ0u\\src\\macros.jl:257 [inlined]",
      "  [3] macro expansion",
      "    @ C:\\Users\\sruth\\.julia\\packages\\JuMP\\glJ0u\\src\\macros\\@constraint.jl:131 [inlined]",
      "  [4] (::var\"#14#24\"{Vector{VariableRef}, Matrix{VariableRef}, Matrix{Float64}, Model})(i::Int64, j::Int64)",
      "    @ Main C:\\Users\\sruth\\.julia\\packages\\JuMP\\glJ0u\\src\\Containers\\macro.jl:539",
      "  [5] (::JuMP.Containers.var\"#91#93\"{var\"#14#24\"{Vector{VariableRef}, Matrix{VariableRef}, Matrix{Float64}, Model}})(I::Tuple{Int64, Int64})",
      "    @ JuMP.Containers C:\\Users\\sruth\\.julia\\packages\\JuMP\\glJ0u\\src\\Containers\\container.jl:144",
      "  [6] iterate",
      "    @ .\\generator.jl:47 [inlined]",
      "  [7] grow_to!(dest::JuMP.Containers.NoDuplicateDict{Any, Any}, itr::Base.Generator{JuMP.Containers.NestedIterator{Tuple{var\"#15#25\"{Int64}, var\"#16#26\"{Int64}}, var\"#17#27\"}, JuMP.Containers.var\"#91#93\"{var\"#14#24\"{Vector{VariableRef}, Matrix{VariableRef}, Matrix{Float64}, Model}}})",
      "    @ Base .\\dict.jl:120",
      "  [8] dict_with_eltype",
      "    @ Base .\\abstractdict.jl:590 [inlined]",
      "  [9] JuMP.Containers.NoDuplicateDict(it::Base.Generator{JuMP.Containers.NestedIterator{Tuple{var\"#15#25\"{Int64}, var\"#16#26\"{Int64}}, var\"#17#27\"}, JuMP.Containers.var\"#91#93\"{var\"#14#24\"{Vector{VariableRef}, Matrix{VariableRef}, Matrix{Float64}, Model}}})",
      "    @ JuMP.Containers C:\\Users\\sruth\\.julia\\packages\\JuMP\\glJ0u\\src\\Containers\\no_duplicate_dict.jl:50",
      " [10] container(f::Function, indices::JuMP.Containers.NestedIterator{Tuple{var\"#15#25\"{Int64}, var\"#16#26\"{Int64}}, var\"#17#27\"}, ::Type{JuMP.Containers.SparseAxisArray}, names::Vector{Any})",
      "    @ JuMP.Containers C:\\Users\\sruth\\.julia\\packages\\JuMP\\glJ0u\\src\\Containers\\container.jl:147",
      " [11] container(f::Function, indices::JuMP.Containers.NestedIterator{Tuple{var\"#15#25\"{Int64}, var\"#16#26\"{Int64}}, var\"#17#27\"}, ::Type{JuMP.Containers.SparseAxisArray}, names::Vector{Any})",
      "    @ JuMP.Containers C:\\Users\\sruth\\.julia\\packages\\JuMP\\glJ0u\\src\\Containers\\container.jl:75 [inlined]",
      " [12] macro expansion",
      "    @ C:\\Users\\sruth\\.julia\\packages\\JuMP\\glJ0u\\src\\macros.jl:393 [inlined]",
      " [13] Sub(data::Data)",
      "    @ Main .\\In[6]:24",
      " [14] top-level scope",
      "    @ In[8]:3"
     ]
    }
   ],
   "source": [
    "# generate the master problem for CG\n",
    "master = Master(data)\n",
    "sub = Sub(data)\n",
    "\n",
    "tic = time()\n",
    "runCG(master, sub, data)\n",
    "toc = time()\n",
    "\n",
    "solution_time = toc-tic\n",
    "println(\"solution time: \", solution_time)\n",
    "\n",
    "objective_value(master.model)\n"
   ]
  },
  {
   "cell_type": "code",
   "execution_count": null,
   "metadata": {},
   "outputs": [],
   "source": []
  },
  {
   "cell_type": "code",
   "execution_count": null,
   "metadata": {},
   "outputs": [],
   "source": []
  }
 ],
 "metadata": {
  "kernelspec": {
   "display_name": "Julia 1.10.0",
   "language": "julia",
   "name": "julia-1.10"
  },
  "language_info": {
   "file_extension": ".jl",
   "mimetype": "application/julia",
   "name": "julia",
   "version": "1.10.0"
  }
 },
 "nbformat": 4,
 "nbformat_minor": 2
}
